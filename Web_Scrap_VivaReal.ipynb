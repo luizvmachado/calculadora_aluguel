{
  "nbformat": 4,
  "nbformat_minor": 0,
  "metadata": {
    "colab": {
      "name": "Web Scrap VivaReal.ipynb",
      "provenance": [],
      "authorship_tag": "ABX9TyPstQHZgyatQ9LjFbCFjEx8",
      "include_colab_link": true
    },
    "kernelspec": {
      "name": "python3",
      "display_name": "Python 3"
    },
    "language_info": {
      "name": "python"
    }
  },
  "cells": [
    {
      "cell_type": "markdown",
      "metadata": {
        "id": "view-in-github",
        "colab_type": "text"
      },
      "source": [
        "<a href=\"https://colab.research.google.com/github/luizvmachado/calculadora_aluguel/blob/main/Web_Scrap_VivaReal.ipynb\" target=\"_parent\"><img src=\"https://colab.research.google.com/assets/colab-badge.svg\" alt=\"Open In Colab\"/></a>"
      ]
    },
    {
      "cell_type": "code",
      "execution_count": null,
      "metadata": {
        "id": "8O-mw_daOawj"
      },
      "outputs": [],
      "source": [
        "from selenium import webdriver\n",
        "from selenium.webdriver.common.by import By\n",
        "import time\n",
        "from tqdm.notebook import tqdm\n",
        "import pandas as pd"
      ]
    },
    {
      "cell_type": "code",
      "source": [
        "list_titulo_anuncio = list()\n",
        "list_endereco_anuncio = list()\n",
        "list_area_anuncio = list()\n",
        "list_numero_quartos = list()\n",
        "list_numero_banheiros = list()\n",
        "list_numero_garagem = list()\n",
        "list_preco = list()\n",
        "list_condominio = list()\n",
        "endereco = list()\n",
        "numeros = list()\n",
        "bairro =list()\n",
        "cidade = list()\n",
        "estado = list()"
      ],
      "metadata": {
        "id": "bepWe_x3Of3K"
      },
      "execution_count": null,
      "outputs": []
    },
    {
      "cell_type": "code",
      "source": [
        "driver = webdriver.Chrome()\n",
        "driver.implicitly_wait(10)\n",
        "driver.maximize_window()"
      ],
      "metadata": {
        "id": "ZjNfnY_0Of5i"
      },
      "execution_count": null,
      "outputs": []
    },
    {
      "cell_type": "code",
      "source": [
        "pbar = tqdm(range(1,200))\n",
        "for pagina in pbar:\n",
        "    url = f'https://www.vivareal.com.br/aluguel/sp/sao-paulo/apartamento_residencial/?pagina={pagina}'\n",
        "    pbar.set_description(\"Processando página %s\" % pagina)\n",
        "    driver.get(url)\n",
        "    resultados = driver.find_elements(By.CLASS_NAME,'property-card__content')\n",
        "    pbar2 = tqdm(resultados)\n",
        "    for elemento_1 in pbar2:\n",
        "        list_titulo_anuncio.append(elemento_1.find_element(By.CLASS_NAME,'property-card__title').text)\n",
        "        list_endereco_anuncio.append(elemento_1.find_element(By.CLASS_NAME,'property-card__address-container').text)\n",
        "        list_area_anuncio.append(elemento_1.find_element(By.CLASS_NAME,'property-card__detail-area').text)\n",
        "        list_numero_quartos.append(elemento_1.find_element(By.CLASS_NAME,'property-card__detail-room').text)\n",
        "        list_numero_banheiros.append(elemento_1.find_element(By.CLASS_NAME,'property-card__detail-bathroom').text)\n",
        "        list_numero_garagem.append(elemento_1.find_element(By.CLASS_NAME,'property-card__detail-garage').text)\n",
        "        list_preco.append(elemento_1.find_element(By.CLASS_NAME,'property-card__price').text)       \n",
        "        try:\n",
        "            list_condominio.append(elemento_1.find_element(By.CLASS_NAME,'property-card__price-details--condo').text)\n",
        "        except:\n",
        "            list_condominio.append('N/A')    "
      ],
      "metadata": {
        "id": "x4T94T8BOf7z"
      },
      "execution_count": null,
      "outputs": []
    },
    {
      "cell_type": "code",
      "source": [
        "for end in tqdm(list_endereco_anuncio):\n",
        "    tokens_macro = end.split(\"-\")    \n",
        "    endereco_numero = tokens_macro[0].split(\",\")    \n",
        "    if len(endereco_numero)>1:\n",
        "        endereco.append(endereco_numero[0].strip())\n",
        "        numeros.append(str(endereco_numero[1].strip()))\n",
        "    else:\n",
        "        endereco.append(endereco_numero[0].strip())\n",
        "        numeros.append('0')      \n",
        "    try:\n",
        "        b, c = tokens_macro[1].split(',')\n",
        "        bairro.append(b.strip())\n",
        "        cidade.append(c.strip())\n",
        "    except:\n",
        "        bairro.append('N/A')\n",
        "        cidade.append('N/A')\n",
        "        continue\n",
        "areas = [float(area.split(\" \")[0]) for area in list_area_anuncio]\n",
        "quartos = [int(q.split(\" \")[0]) for q in list_numero_quartos]\n",
        "banheiros = [int(b.split(\" \")[0]) for b in list_numero_banheiros]\n",
        "vagas_garagem = [int(g.split(\" \")[0]) if g != '-- Vaga' else 0 for g in list_numero_garagem]\n",
        "precos = [float(p.split(\" \")[1].replace(\".\",\"\")) for p in list_preco]\n",
        "condominio = [float(c.split(\" \")[-1].replace(\".\",\"\")) if c!= \"N/A\" else 0.0 for c in list_condominio]"
      ],
      "metadata": {
        "id": "rYkQ1HxdOf97"
      },
      "execution_count": null,
      "outputs": []
    },
    {
      "cell_type": "code",
      "source": [
        "dataset = pd.DataFrame({'Titulo': list_titulo_anuncio,\n",
        "                        'Endereco': endereco,\n",
        "                        'Numero': numeros,\n",
        "                        'Bairro': bairro,\n",
        "                        'Cidade': cidade,\n",
        "                        'Area': areas,\n",
        "                        'Quartos':quartos,\n",
        "                        'Banheiros':banheiros,\n",
        "                        'Vagas':vagas_garagem,\n",
        "                        'Preco':precos})"
      ],
      "metadata": {
        "id": "NSApOHTjOgAC"
      },
      "execution_count": null,
      "outputs": []
    },
    {
      "cell_type": "code",
      "source": [
        "dataset.head()"
      ],
      "metadata": {
        "id": "k3MZDVt08iWU"
      },
      "execution_count": null,
      "outputs": []
    },
    {
      "cell_type": "code",
      "source": [
        "dataset.to_excel('ScrapVivaReal.xlsx', index = False)\n",
        "dataset.to_csv('ScrapVivaRealCSV.xlsx', sep = ',', index = False)"
      ],
      "metadata": {
        "id": "BT6OhtLoOgCz"
      },
      "execution_count": null,
      "outputs": []
    }
  ]
}